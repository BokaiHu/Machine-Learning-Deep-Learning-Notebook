{
 "cells": [
  {
   "cell_type": "markdown",
   "metadata": {},
   "source": [
    "### Rotary Positional Embedding"
   ]
  },
  {
   "cell_type": "code",
   "execution_count": 1,
   "metadata": {},
   "outputs": [
    {
     "name": "stdout",
     "output_type": "stream",
     "text": [
      "torch.Size([2, 2, 6, 2]) torch.Size([2, 2, 6, 2])\n",
      "torch.Size([2, 2, 6, 2]) torch.Size([2, 2, 6, 2])\n"
     ]
    }
   ],
   "source": [
    "import torch\n",
    "import torch.nn as nn\n",
    "import torch.nn.functional as F\n",
    "\n",
    "class RotaryPositionalEmbedding(nn.Module):\n",
    "    def __init__(self, dim, max_len):\n",
    "        super().__init__()\n",
    "        pos = torch.arange(0, max_len, dtype=torch.float16).unsqueeze(-1) # [max_len, 1]\n",
    "        ids = torch.arange(0, dim // 2, dtype=torch.float16) # [d_model // 2]\n",
    "        theta = 10000 ** (-2*ids / dim) * pos\n",
    "        self.sin = torch.sin(theta).repeat_interleave(2, dim=-1)\n",
    "        self.cos = torch.cos(theta).repeat_interleave(2, dim=-1)\n",
    "\n",
    "    def forward(self, q, k):\n",
    "        bs, num_head, seq_len, head_dim = q.shape\n",
    "        sin = self.sin.repeat(bs, num_head, 1, 1)\n",
    "        cos = self.cos.repeat(bs, num_head, 1, 1)\n",
    "        q1 = q\n",
    "        q2 = torch.concat([-q[:, :, :, 1::2], q[:, :, :, ::2]], dim=-1)\n",
    "        k1 = k\n",
    "        k2 = torch.concat([-k[:, :, :, 1::2], k[:, :, :, ::2]], dim=-1)\n",
    "        return q1 * cos + q2 * sin, k1 * cos + k2 * sin\n",
    "    \n",
    "d_model = 4\n",
    "num_head = 2\n",
    "head_dim = d_model // num_head\n",
    "max_len = 6\n",
    "rpe = RotaryPositionalEmbedding(head_dim, max_len)\n",
    "q = torch.randn(2, num_head, max_len, head_dim)\n",
    "k = torch.randn(2, num_head, max_len, head_dim)\n",
    "q, k = rpe(q, k)\n",
    "print(q.shape, k.shape)"
   ]
  },
  {
   "cell_type": "markdown",
   "metadata": {},
   "source": [
    "### RoPE的远程衰减"
   ]
  },
  {
   "cell_type": "code",
   "execution_count": 24,
   "metadata": {},
   "outputs": [
    {
     "data": {
      "text/plain": [
       "[<matplotlib.lines.Line2D at 0x201c5b4b490>]"
      ]
     },
     "execution_count": 24,
     "metadata": {},
     "output_type": "execute_result"
    },
    {
     "data": {
      "image/png": "[encoded data removed]",
      "text/plain": [
       "<Figure size 640x480 with 1 Axes>"
      ]
     },
     "metadata": {},
     "output_type": "display_data"
    }
   ],
   "source": [
    "d_model = 512\n",
    "i = torch.arange(0, d_model // 2)\n",
    "theta = (10000) ** (-2 * i / d_model)\n",
    "diff = torch.arange(0, 300).unsqueeze(-1)\n",
    "cos = torch.cos(diff * theta)\n",
    "import matplotlib.pyplot as plt\n",
    "sum_cos = torch.sum(cos, dim=-1)\n",
    "plt.plot(sum_cos)"
   ]
  },
  {
   "cell_type": "code",
   "execution_count": 1,
   "metadata": {},
   "outputs": [
    {
     "data": {
      "text/plain": [
       "(0.999999995, 0.9999999800000001)"
      ]
     },
     "execution_count": 1,
     "metadata": {},
     "output_type": "execute_result"
    }
   ],
   "source": [
    "import math\n",
    "\n",
    "math.cos(1/10000), math.cos(2/10000)"
   ]
  },
  {
   "cell_type": "markdown",
   "metadata": {},
   "source": [
    "### Self Attention"
   ]
  },
  {
   "cell_type": "code",
   "execution_count": 53,
   "metadata": {},
   "outputs": [
    {
     "data": {
      "text/plain": [
       "torch.Size([2, 5, 64])"
      ]
     },
     "execution_count": 53,
     "metadata": {},
     "output_type": "execute_result"
    }
   ],
   "source": [
    "import math\n",
    "\n",
    "class MultiheadSelfAttention(nn.Module):\n",
    "    def __init__(self, num_head, hidden_dim):\n",
    "        super().__init__()\n",
    "        self.num_head = num_head\n",
    "        self.hidden_dim = hidden_dim\n",
    "        self.head_dim = hidden_dim // num_head\n",
    "        self.qkv = nn.Linear(hidden_dim, hidden_dim * 3)\n",
    "        self.out_proj = nn.Linear(hidden_dim, hidden_dim)\n",
    "        self.attn_dropout = nn.Dropout(p=0.3)\n",
    "        self.out_dropout = nn.Dropout(p=0.3)\n",
    "\n",
    "    def forward(self, x, mask=None):\n",
    "        bs, seq_len, _ = x.shape\n",
    "        qkv = self.qkv(x).reshape(bs, seq_len, 3, self.num_head, self.head_dim).permute(2, 0, 3, 1, 4) # [3, bs, num_head, seq_len, head_dim]\n",
    "        q, k, v = qkv[0], qkv[1], qkv[2]\n",
    "        attention_score = torch.matmul(q, k.transpose(-2, -1)) / math.sqrt(self.head_dim)\n",
    "        if mask is not None:\n",
    "            attention_score.masked_fill_(mask==0, -1e9)\n",
    "        attention_score = F.softmax(attention_score, dim=-1)\n",
    "        attention_score = self.attn_dropout(attention_score)\n",
    "        attention_score = torch.matmul(attention_score, v).transpose(1, 2).reshape(bs, seq_len, self.hidden_dim)\n",
    "        output = self.out_proj(attention_score)\n",
    "        output = self.out_dropout(output)\n",
    "        return output\n",
    "    \n",
    "mhsa = MultiheadSelfAttention(4, 64)\n",
    "x = torch.randn(2, 5, 64)\n",
    "mhsa(x).shape"
   ]
  },
  {
   "cell_type": "code",
   "execution_count": 66,
   "metadata": {},
   "outputs": [
    {
     "data": {
      "text/plain": [
       "torch.Size([2, 5, 64])"
      ]
     },
     "execution_count": 66,
     "metadata": {},
     "output_type": "execute_result"
    }
   ],
   "source": [
    "\n",
    "class GroupQueryAttention(nn.Module):\n",
    "    def __init__(self, num_head, hidden_dim, group_size=2):\n",
    "        super().__init__()\n",
    "        self.num_head = num_head\n",
    "        self.hidden_dim = hidden_dim\n",
    "        self.head_dim = hidden_dim // num_head\n",
    "        self.group_size = group_size\n",
    "        self.num_group = num_head // group_size\n",
    "        self.q_proj = nn.Linear(hidden_dim, hidden_dim)\n",
    "        self.k_proj = nn.Linear(hidden_dim, self.group_size * self.head_dim)\n",
    "        self.v_proj = nn.Linear(hidden_dim, self.group_size * self.head_dim)\n",
    "        self.out_proj = nn.Linear(hidden_dim, hidden_dim)\n",
    "        self.attn_dropout = nn.Dropout(p=0.3)\n",
    "        self.out_dropout = nn.Dropout(p=0.3)\n",
    "\n",
    "    def forward(self, x, mask=None):\n",
    "        bs, seq_len, _ = x.shape\n",
    "        q = self.q_proj(x).reshape(bs, seq_len, self.num_head, self.head_dim).transpose(1, 2)\n",
    "        k = self.k_proj(x).reshape(bs, seq_len, self.group_size, self.head_dim).transpose(1, 2)\n",
    "        v = self.v_proj(x).reshape(bs, seq_len, self.group_size, self.head_dim).transpose(1, 2)\n",
    "        grouped_query = torch.chunk(q, self.num_group, dim=1)\n",
    "        attention_scores = []\n",
    "        for query in grouped_query:\n",
    "            attention_score = torch.matmul(query, k.transpose(-2, -1)) / math.sqrt(self.head_dim)\n",
    "            if mask is not None:\n",
    "                attention_score.masked_fill_(mask==0, -1e9)\n",
    "            attention_score = F.softmax(attention_score, dim=-1)\n",
    "            attention_score = self.attn_dropout(attention_score)\n",
    "            attention_score = torch.matmul(attention_score, v)\n",
    "            attention_scores.append(attention_score)\n",
    "        attention_score = torch.concat(attention_scores, dim=1).transpose(1, 2).reshape(bs, seq_len, self.hidden_dim)\n",
    "        output = self.out_proj(attention_score)\n",
    "        output = self.out_dropout(output)\n",
    "        return output\n",
    "    \n",
    "mhsa = GroupQueryAttention(8, 64, 2)\n",
    "x = torch.randn(2, 5, 64)\n",
    "mhsa(x).shape"
   ]
  },
  {
   "cell_type": "code",
   "execution_count": 7,
   "metadata": {},
   "outputs": [
    {
     "data": {
      "text/plain": [
       "torch.Size([512, 2048])"
      ]
     },
     "execution_count": 7,
     "metadata": {},
     "output_type": "execute_result"
    }
   ],
   "source": [
    "import torch.nn as nn\n",
    "import torch\n",
    "\n",
    "class RoPEPositionalEncoding(nn.Module):\n",
    "    \"\"\"\n",
    "    Rotary Position Encoding (RoPE) module.\n",
    "    \"\"\"\n",
    "\n",
    "    def __init__(self, d_model, max_len=1000000, base=10000):\n",
    "        super().__init__()\n",
    "        self.d_model = d_model\n",
    "        self.max_len = max_len\n",
    "        self.base = base\n",
    "        self.theta = torch.tensor(\n",
    "            [base ** (-2 * (i // 2) / d_model) for i in range(d_model)]\n",
    "        )\n",
    "\n",
    "    def forward(self, positions):\n",
    "        angles = positions.unsqueeze(-1) * self.theta\n",
    "        sin_cos = torch.stack([angles.cos(), angles.sin()], dim=-1)\n",
    "        return sin_cos.view(*sin_cos.shape[:-2], -1)\n",
    "    \n",
    "position = torch.arange(0, 512)\n",
    "\n",
    "rope_pe = RoPEPositionalEncoding(d_model=1024)\n",
    "\n",
    "pe = rope_pe(position)\n",
    "pe.shape\n",
    "\n",
    "def non_uniform_interpolation(pos_embed, extension_ratio, lambda_factors, n_hat):\n",
    "    \"\"\"\n",
    "    Perform non-uniform interpolation on position embeddings as described in the LongRoPE paper.\n",
    "\n",
    "    This function implements the two forms of non-uniformities:\n",
    "    1. Varying RoPE dimensions (lambda_factors)\n",
    "    2. Token positions (n_hat)\n",
    "\n",
    "    The n_hat parameter represents the number of initial tokens to keep without interpolation,\n",
    "    as described in the paper. This allows the model to maintain high-quality representations\n",
    "    for the first n_hat tokens, which are often crucial for task performance.\n",
    "\n",
    "    Args:\n",
    "        pos_embed (torch.Tensor): Original position embeddings.\n",
    "        extension_ratio (float): Ratio of target length to original length.\n",
    "        lambda_factors (list): Lambda factors for each RoPE dimension.\n",
    "        n_hat (int): Number of initial tokens to keep without interpolation.\n",
    "\n",
    "    Returns:\n",
    "        torch.Tensor: Interpolated position embeddings.\n",
    "    \"\"\"\n",
    "    d_model = pos_embed.shape[-1]\n",
    "    interpolated_pos = pos_embed.clone()\n",
    "\n",
    "    for i in range(d_model // 2):\n",
    "        # Apply different scaling based on token position\n",
    "        mask = torch.arange(pos_embed.shape[-2], device=pos_embed.device) < n_hat\n",
    "        scale = torch.where(\n",
    "            mask,\n",
    "            torch.ones_like(pos_embed[..., 0], device=pos_embed.device),\n",
    "            1 / (lambda_factors[i] * extension_ratio),  # Use dimension-specific lambda factors\n",
    "        )\n",
    "        # Apply scaling to both sine and cosine components\n",
    "        interpolated_pos[..., 2 * i] *= scale\n",
    "        interpolated_pos[..., 2 * i + 1] *= scale\n",
    "\n",
    "    return interpolated_pos"
   ]
  },
  {
   "cell_type": "code",
   "execution_count": 20,
   "metadata": {},
   "outputs": [
    {
     "name": "stdout",
     "output_type": "stream",
     "text": [
      "tensor([ True,  True,  True,  True,  True, False, False, False, False, False])\n",
      "tensor([[1.0000, 1.0000, 1.0000, 1.0000, 1.0000, 0.2500, 0.2500, 0.2500, 0.2500,\n",
      "         0.2500]])\n",
      "tensor([ True,  True,  True,  True,  True, False, False, False, False, False])\n",
      "tensor([[1.0000, 1.0000, 1.0000, 1.0000, 1.0000, 0.2500, 0.2500, 0.2500, 0.2500,\n",
      "         0.2500]])\n",
      "tensor([[[-0.4743, -0.2118,  1.1682,  0.6019],\n",
      "         [-0.6564, -1.4026, -0.5887, -0.9835],\n",
      "         [ 0.1771, -2.7645,  0.9062, -0.6906],\n",
      "         [ 1.2431, -0.9780, -0.4634, -0.9300],\n",
      "         [-0.0037, -2.0152, -1.6126,  0.3614],\n",
      "         [ 3.1602, -0.1137, -0.1269,  0.1454],\n",
      "         [ 0.1621, -0.0396, -0.5822, -0.1491],\n",
      "         [ 1.8478,  0.6244,  1.2869, -0.7499],\n",
      "         [ 0.4118,  0.8611,  1.2287,  0.3462],\n",
      "         [ 0.0959, -0.1887, -0.6349, -1.0945]]])\n",
      "tensor([[[-0.4743, -0.2118,  1.1682,  0.6019],\n",
      "         [-0.6564, -1.4026, -0.5887, -0.9835],\n",
      "         [ 0.1771, -2.7645,  0.9062, -0.6906],\n",
      "         [ 1.2431, -0.9780, -0.4634, -0.9300],\n",
      "         [-0.0037, -2.0152, -1.6126,  0.3614],\n",
      "         [ 0.7900, -0.0284, -0.0317,  0.0363],\n",
      "         [ 0.0405, -0.0099, -0.1456, -0.0373],\n",
      "         [ 0.4620,  0.1561,  0.3217, -0.1875],\n",
      "         [ 0.1030,  0.2153,  0.3072,  0.0866],\n",
      "         [ 0.0240, -0.0472, -0.1587, -0.2736]]])\n"
     ]
    }
   ],
   "source": [
    "import torch\n",
    "\n",
    "def non_uniform_interpolation(pos_embed, extension_ratio, lambda_factors, n_hat):\n",
    "    d_model = pos_embed.shape[-1]\n",
    "    interpolated_pos = pos_embed.clone()\n",
    "\n",
    "    for i in range(d_model // 2):\n",
    "        mask = torch.arange(pos_embed.shape[-2], device=pos_embed.device) < n_hat\n",
    "        scale = torch.where(\n",
    "            mask,\n",
    "            torch.ones_like(pos_embed[..., 0], device=pos_embed.device),\n",
    "            1 / (lambda_factors[i] * extension_ratio)\n",
    "        )\n",
    "        print(mask)\n",
    "        print(scale)\n",
    "        interpolated_pos[..., 2 * i] *= scale\n",
    "        interpolated_pos[..., 2 * i + 1] *= scale\n",
    "\n",
    "    return interpolated_pos\n",
    "\n",
    "# Define test inputs\n",
    "pos_embed = torch.randn(1, 10, 4)  # 1 batch, 10 positions, 4 model dimensions\n",
    "extension_ratio = 5.0\n",
    "lambda_factors = [0.8, 0.8]  # For simplicity, using the same factor for both dimension pairs\n",
    "n_hat = 5\n",
    "\n",
    "# Call the function\n",
    "output = non_uniform_interpolation(pos_embed, extension_ratio, lambda_factors, n_hat)\n",
    "print(pos_embed)\n",
    "print(output)\n"
   ]
  },
  {
   "cell_type": "markdown",
   "metadata": {},
   "source": [
    "## Transformer"
   ]
  },
  {
   "cell_type": "code",
   "execution_count": null,
   "metadata": {},
   "outputs": [],
   "source": [
    "from datasets import load_dataset\n",
    "\n",
    "ds = load_dataset(\"botisan-ai/cantonese-mandarin-translations\")"
   ]
  },
  {
   "cell_type": "code",
   "execution_count": 42,
   "metadata": {},
   "outputs": [],
   "source": [
    "import torch\n",
    "import math\n",
    "import torch.nn as nn\n",
    "import torch.nn.functional as F\n",
    "\n",
    "class PositionalEmbedding(nn.Module):\n",
    "    def __init__(self, embed_dim, max_len=512, base=10000):\n",
    "        super().__init__()\n",
    "        pe = torch.zeros((max_len, embed_dim))\n",
    "        pos = torch.arange(max_len).unsqueeze(1)\n",
    "        div_term = torch.exp(torch.arange(0, embed_dim, 2) * -(math.log(base) / embed_dim))\n",
    "        pe[:, 0::2] = torch.sin(pos * div_term)\n",
    "        pe[:, 1::2] = torch.cos(pos * div_term)\n",
    "        pe = pe.unsqueeze(0)\n",
    "        self.register_buffer(\"pe\", pe)\n",
    "\n",
    "    def forward(self, x):\n",
    "        x = x + self.pe[:, :x.size(1)]\n",
    "        return x\n",
    "\n",
    "class GeGLU(nn.Module):\n",
    "    def __init__(self, hidden_dim):\n",
    "        super(GeGLU, self).__init__()\n",
    "        self.proj1 = nn.Linear(hidden_dim, hidden_dim)\n",
    "        self.proj2 = nn.Linear(hidden_dim, hidden_dim)\n",
    "\n",
    "    def forward(self, x):\n",
    "        return F.gelu(self.proj1(x)) * self.proj2(x)\n",
    "\n",
    "class SwiGLU(nn.Module):\n",
    "    def __init__(self, hidden_dim):\n",
    "        super(SwiGLU, self).__init__()\n",
    "        self.proj1 = nn.Linear(hidden_dim, hidden_dim)\n",
    "        self.proj2 = nn.Linear(hidden_dim, hidden_dim)\n",
    "\n",
    "    def forward(self, x):\n",
    "        return F.silu(self.proj1(x)) * self.proj2(x)\n",
    "    \n",
    "class RMSNorm(nn.Module):\n",
    "    def __init__(self, hidden_dim):\n",
    "        super(RMSNorm, self).__init__()\n",
    "        self.weights = nn.Parameter(torch.ones(hidden_dim), requires_grad=True)\n",
    "        self.eps = 1e-8\n",
    "        \n",
    "    def forward(self, x):\n",
    "        rms = torch.pow(x, 2).mean(dim=-1, keepdim=True)\n",
    "        return self.weights * x / torch.rsqrt(rms + self.eps)\n",
    "\n",
    "class SelfAttention(nn.Module):\n",
    "    def __init__(self, embed_size, num_heads, attn_dropout=0., mask=None):\n",
    "        super(SelfAttention, self).__init__()\n",
    "        self.embed_size = embed_size\n",
    "        self.num_heads = num_heads\n",
    "        self.head_dim = embed_size // num_heads\n",
    "        self.qkv = nn.Linear(embed_size, embed_size * 3)\n",
    "        self.out_proj = nn.Linear(embed_size, embed_size)\n",
    "        self.attn_dropout = nn.Dropout(attn_dropout)\n",
    "        self.mask = mask\n",
    "    \n",
    "    def forward(self, x):\n",
    "        batch_size, seq_len, embed_size = x.shape\n",
    "        qkv = self.qkv(x).reshape(batch_size, seq_len, 3, self.num_heads, self.head_dim).permute(2, 0, 3, 1, 4)\n",
    "        q, k, v = qkv[0], qkv[1], qkv[2]\n",
    "        attention_score = torch.matmul(q, k.transpose(-1, -2)) / self.head_dim ** 0.5\n",
    "        if self.mask:\n",
    "            mask = torch.tril(torch.ones(seq_len, seq_len)).to(device=x.device)\n",
    "            attention_score = attention_score.masked_fill(mask==0, -1e9)\n",
    "        attention_score = F.softmax(attention_score, dim=-1)\n",
    "        attention_score = self.attn_dropout(attention_score)\n",
    "        output = torch.matmul(attention_score, v).permute(0, 2, 1, 3).reshape(batch_size, seq_len, self.embed_size)\n",
    "        return self.out_proj(output)\n",
    "\n",
    "class CrossAttention(nn.Module):\n",
    "    def __init__(self, embed_size, num_heads, attn_dropout=0., mask=None):\n",
    "        super(CrossAttention, self).__init__()\n",
    "        self.embed_size = embed_size\n",
    "        self.num_heads = num_heads\n",
    "        self.head_dim = embed_size // num_heads\n",
    "        self.kv = nn.Linear(embed_size, embed_size * 2)\n",
    "        self.out_proj = nn.Linear(embed_size, embed_size)\n",
    "        self.attn_dropout = nn.Dropout(attn_dropout)\n",
    "        self.mask = mask\n",
    "    \n",
    "    def forward(self, q, x):\n",
    "        batch_size, src_seq_len, _ = x.shape\n",
    "        batch_size, tgt_seq_len, _ = q.shape\n",
    "        kv = self.kv(x).reshape(batch_size, src_seq_len, 2, self.num_heads, self.head_dim).permute(2, 0, 3, 1, 4)\n",
    "        k, v = kv[0], kv[1]\n",
    "        q = q.reshape(batch_size, tgt_seq_len, self.num_heads, self.head_dim).permute(0, 2, 1, 3)\n",
    "        attention_score = torch.matmul(q, k.transpose(-1, -2)) / self.head_dim ** 0.5\n",
    "        if self.mask:\n",
    "            mask = torch.tril(torch.ones(tgt_seq_len, src_seq_len)).to(device=x.device)\n",
    "            attention_score = attention_score.masked_fill(mask==0, -1e9)\n",
    "        attention_score = F.softmax(attention_score, dim=-1)\n",
    "        attention_score = self.attn_dropout(attention_score)\n",
    "        output = torch.matmul(attention_score, v).permute(0, 2, 1, 3).reshape(batch_size, tgt_seq_len, self.embed_size)\n",
    "        return self.out_proj(output)\n",
    "    \n",
    "class FFN(nn.Module):\n",
    "    def __init__(self, hidden_dim, proj_dropout=0.):\n",
    "        super(FFN, self).__init__()\n",
    "        self.hidden_dim = hidden_dim\n",
    "        self.ffn = nn.Sequential(\n",
    "            nn.Linear(hidden_dim, hidden_dim * 4),\n",
    "            SwiGLU(hidden_dim * 4),\n",
    "            nn.Linear(hidden_dim * 4, hidden_dim),\n",
    "            nn.Dropout(proj_dropout)\n",
    "        )\n",
    "\n",
    "    def forward(self, x):\n",
    "        return self.ffn(x)\n",
    "    \n",
    "class TransformerEncoderBlock(nn.Module):\n",
    "    def __init__(self, hidden_dim, attn_dropout=0., proj_dropout=0., num_heads=8, mask=False):\n",
    "        super().__init__()\n",
    "        self.hidden_dim = hidden_dim\n",
    "        self.proj_dropout = proj_dropout\n",
    "        self.attn_dropout = attn_dropout\n",
    "        self.attn = SelfAttention(hidden_dim, num_heads, attn_dropout, mask=False)\n",
    "        self.ffn = FFN(hidden_dim, proj_dropout)\n",
    "        self.ln1 = RMSNorm(hidden_dim)\n",
    "        self.ln2 = RMSNorm(hidden_dim)\n",
    "\n",
    "    def forward(self, x):\n",
    "        ## PostNorm\n",
    "        x = self.ln1(x + self.attn(x))\n",
    "        x = self.ln2(x + self.ffn(x))\n",
    "        return x\n",
    "    \n",
    "class TransformerEncoder(nn.Module):\n",
    "    def __init__(self, hidden_dim, num_layers, attn_dropout=0., proj_dropout=0., num_heads=8, mask=False):\n",
    "        super().__init__()\n",
    "        self.hidden_dim = hidden_dim\n",
    "        self.num_layers = num_layers\n",
    "        self.layers = nn.ModuleList([TransformerEncoderBlock(hidden_dim, attn_dropout, proj_dropout, num_heads) for _ in range(num_layers)])\n",
    "\n",
    "    def forward(self, x):\n",
    "        layer_output = []\n",
    "        for layer in self.layers:\n",
    "            x = layer(x)\n",
    "            layer_output.append(x)\n",
    "        return layer_output\n",
    "    \n",
    "class TransformerDecoderBlock(nn.Module):\n",
    "    def __init__(self, hidden_dim, attn_dropout=0., proj_dropout=0., num_heads=8):\n",
    "        super().__init__()\n",
    "        self.hidden_dim = hidden_dim\n",
    "        self.proj_dropout = proj_dropout\n",
    "        self.attn_dropout = attn_dropout\n",
    "        self.masked_attn = SelfAttention(hidden_dim, num_heads, attn_dropout, mask=True)\n",
    "        self.cross_attn = CrossAttention(hidden_dim, num_heads, attn_dropout)\n",
    "        self.ffn = FFN(hidden_dim, proj_dropout)\n",
    "        self.ln1 = RMSNorm(hidden_dim)\n",
    "        self.ln2 = RMSNorm(hidden_dim)\n",
    "        self.ln3 = RMSNorm(hidden_dim)\n",
    "\n",
    "    def forward(self, q, x):\n",
    "        ## PostNorm\n",
    "        x = self.ln1(x + self.masked_attn(x))\n",
    "        x = self.ln2(x + self.cross_attn(q, x))\n",
    "        x = self.ln3(x + self.ffn(x))\n",
    "        return x\n",
    "    \n",
    "class TransformerDecoder(nn.Module):\n",
    "    def __init__(self, hidden_dim, num_layers, attn_dropout=0., proj_dropout=0., num_heads=8, mask=False):\n",
    "        super().__init__()\n",
    "        self.hidden_dim = hidden_dim\n",
    "        self.num_layers = num_layers\n",
    "        self.layers = nn.ModuleList([TransformerDecoderBlock(hidden_dim, attn_dropout, proj_dropout, num_heads) for _ in range(num_layers)])\n",
    "\n",
    "    def forward(self, x, qs):\n",
    "        for layer, q in zip(self.layers, qs):\n",
    "            x = layer(q, x)\n",
    "        return x\n",
    "    \n",
    "class Transformer(nn.Module):\n",
    "    def __init__(self, src_vocab_size, tgt_vocab_size, hidden_dim, num_layers, max_len=512, base=10000, attn_dropout=0., proj_dropout=0., num_heads=8):\n",
    "        super().__init__()\n",
    "        self.encoder_emb = nn.Embedding(src_vocab_size, hidden_dim)\n",
    "        self.decoder_emb = nn.Embedding(tgt_vocab_size, hidden_dim)\n",
    "        self.pe = PositionalEmbedding(hidden_dim, max_len, base)\n",
    "        self.encoder = TransformerEncoder(hidden_dim, num_layers, attn_dropout, proj_dropout, num_heads)\n",
    "        self.decoder = TransformerDecoder(hidden_dim, num_layers, attn_dropout, proj_dropout, num_heads)\n",
    "        self.fc = nn.Linear(hidden_dim, 1)\n",
    "\n",
    "    def forward(self, x, decoder_x):\n",
    "        x = self.encoder_emb(x)\n",
    "        x = self.pe(x)\n",
    "        decoder_x = self.decoder_emb(decoder_x)\n",
    "        decoder_x = self.pe(decoder_x)\n",
    "        layer_output = self.encoder(x)\n",
    "        decoder_output = self.decoder(decoder_x, layer_output)\n",
    "        return decoder_output"
   ]
  },
  {
   "cell_type": "code",
   "execution_count": 43,
   "metadata": {},
   "outputs": [
    {
     "name": "stdout",
     "output_type": "stream",
     "text": [
      "torch.Size([1, 3, 32])\n"
     ]
    }
   ],
   "source": [
    "x = torch.rand(1, 3, 32)\n",
    "pos = PositionalEmbedding(32, 512, 10000)\n",
    "print(pos(x).shape)"
   ]
  },
  {
   "cell_type": "code",
   "execution_count": 46,
   "metadata": {},
   "outputs": [
    {
     "data": {
      "text/plain": [
       "torch.Size([1, 3, 32])"
      ]
     },
     "execution_count": 46,
     "metadata": {},
     "output_type": "execute_result"
    }
   ],
   "source": [
    "f = Transformer(src_vocab_size=32, tgt_vocab_size=32, hidden_dim=32, num_layers=1)\n",
    "x = torch.ones(1, 3, dtype=torch.long)\n",
    "decoder_x = torch.ones(1, 1, dtype=torch.long)\n",
    "f(x, decoder_x).shape"
   ]
  },
  {
   "cell_type": "markdown",
   "metadata": {},
   "source": [
    "## FastText"
   ]
  },
  {
   "cell_type": "code",
   "execution_count": 3,
   "metadata": {},
   "outputs": [],
   "source": [
    "import fasttext"
   ]
  },
  {
   "cell_type": "code",
   "execution_count": null,
   "metadata": {},
   "outputs": [],
   "source": []
  }
 ],
 "metadata": {
  "kernelspec": {
   "display_name": "base",
   "language": "python",
   "name": "python3"
  },
  "language_info": {
   "codemirror_mode": {
    "name": "ipython",
    "version": 3
   },
   "file_extension": ".py",
   "mimetype": "text/x-python",
   "name": "python",
   "nbconvert_exporter": "python",
   "pygments_lexer": "ipython3",
   "version": "3.11.5"
  }
 },
 "nbformat": 4,
 "nbformat_minor": 2
}
